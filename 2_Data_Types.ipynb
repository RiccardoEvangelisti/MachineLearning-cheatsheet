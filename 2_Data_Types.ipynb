{
 "cells": [
  {
   "cell_type": "code",
   "execution_count": 13,
   "metadata": {},
   "outputs": [],
   "source": [
    "import numpy as np\n",
    "import pandas as pd\n",
    "import matplotlib.pyplot as plt\n",
    "from sklearn.preprocessing import LabelEncoder, OrdinalEncoder, OneHotEncoder\n",
    "from sklearn.compose import ColumnTransformer\n",
    "\n",
    "plt.style.use(\"seaborn-v0_8\")"
   ]
  },
  {
   "cell_type": "markdown",
   "metadata": {},
   "source": [
    "### Dataset\n",
    "- *Attribute/feature/dimension/variable* is a dataset column (*p* or *m* or *d*)\n",
    "- *Observation/sample* is a dataset row (*n* or *N*)"
   ]
  },
  {
   "cell_type": "markdown",
   "metadata": {},
   "source": [
    "### Data types\n",
    "| Data Type  |   | Description | Operators | Examples |\n",
    "|-------------|---| ----------------|------|------|\n",
    "| Categorical | ***Nominal*** | Set of labels, all equally important | = ≠  | Zip code, eye color, sex, ... | \n",
    "|             | ***Ordinal*** | Set of lables, sortable for some metric | < > ≤ ≥ | Hardness of minerals, non–numerical quality evaluations (bad, fair, good, excellent) | \n",
    "| Numerical   | ***Interval*** | Is meaningful only the difference (there's not a univocal definition of zero) | + − | Calendar dates, temperature (F and C), scores (e.g. intervals of 1 to 10) |\n",
    "|             | ***Ratio*** | Have a univocal definition of zero | all | Temperatures (Kelvin), masses, length, counts |\n",
    "\n"
   ]
  },
  {
   "cell_type": "markdown",
   "metadata": {},
   "source": [
    "### Data characteristics\n",
    "| | |\n",
    "| --- | --- |\n",
    "| **Asymmetric attribute** | a value is important only if it's present (not null) |\n",
    "| **Sparsity** | when there are many zeros/nulls |\n",
    "| **Noise** | modification of original values, or adding of unintresting values |\n",
    "| **Outliers** | points very different from the most. Can be caused by noise or rare events. |"
   ]
  },
  {
   "cell_type": "markdown",
   "metadata": {},
   "source": [
    "### Similarity/Dissimilarity\n",
    "between two values $p$ and $q$\n",
    "\n",
    "| Attribute type          | Dissimilarity         | Similarity               |\n",
    "|------------------------|----------------------|-------------------------|\n",
    "| Nominal | $d = \\begin{cases} 0 & \\text{if } p = q \\\\ 1 & \\text{if } p \\neq q \\end{cases}$ | $s = \\space \\sim d$ |\n",
    "| Ordinal <br> (values mapped to integers [0, V-1]) | $d = \\frac{\\|p-q\\|}{V-1}$ | $s = 1 -d$ |\n",
    "| Interval or Ratio      | $d = \\|p - q\\|$       | $s =\\frac{1}{1+d}$ <br> or <br>$s= 1-\\frac{d-min(d)}{max(d)-min(d)}$ |\n"
   ]
  },
  {
   "cell_type": "markdown",
   "metadata": {},
   "source": [
    "### Data statistics\n",
    "\n",
    "|          | **Numerical** | **Nominal** | **Ordinal** | \n",
    "|----------|-------------|-------------|------------|\n",
    "| **Mean** |$$\\frac{\\sum_{i=1}^{n} x_i}{n}$$ The outliers can easily modify the mean|no sense|no sense|\n",
    "| **Median**|$$\\frac{n + 1}{2}$$|no sense|middle value in the ordered sequence (if number of values is even, is the average of the two middlemost values)|\n",
    "| **Mode**  |Most occurring value. <br>There can be multiple modes, or none if each value occurs once| == | == |\n",
    "| **Quantiles** | Points taken at regular intervals of a data distribution.<br> - the 4-quantiles are three data points that split the distribution into four equal parts (*quartiles*) <br>- the 100-quantiles divide into 100 set (*percentiles*)| == | == |\n",
    "| **Variance and Standard deviation** (square root of Variance)| Measures data dispersion: if it's low, the data are close to the mean value $\\bar{y}$; if it's zero, all observations have the same value: $$ \\frac{1}{n} \\sum_{i=1}^{n} (y_i - \\bar{y})^2 $$ | == | == |\n",
    "| **Covariance** (between two variables)| It's a measure of the joint variability of two variables. <br>The covariance is *positive* if the larger values of one variable mainly correspond with the larger values of the other variable, and the same holds for the lesser values (that is, the variables tend to show similar behavior). <br>The covariance is *negative* when the greater values of one variable mainly correspond to the lesser values of the other (that is, the variables tend to show opposite behavior). <br>If the covariance is zero, it means that the two dimensions are independent of each other. <br>It cannot show the strength of the relationship between variables. $$ \\sigma_{x,y} = \\frac{1}{n} \\sum_{i=1}^{n} (x_i - \\bar{x})(y_i - \\bar{y}) $$<br> The **covariance matrix** is a square matrix and it's symmetric with respect to the main diagonal. Each element is the result of calculating the covariance between two separate dimensions. On the main diagonal, the covariance value is calculated between a dimension and itself, that is simpy the variance. | == | == |\n",
    "| **Correlation** (between two variables) | It's a standardized measure of covariance that ranges from -1 to 1. <br>A correlation value of *1* indicates a perfect positive linear relationship between the two variables.<br> A correlation value of *-1* indicates a perfect negative linear relationship. <br> A correlation value of *0* indicates the absence of a linear relationship between the two random variables. <br>It measures both the strength and direction of the linear relationship between two variables. | == | == |"
   ]
  },
  {
   "cell_type": "markdown",
   "metadata": {},
   "source": [
    "---\n",
    "---\n",
    "# Data Type Conversions"
   ]
  },
  {
   "cell_type": "code",
   "execution_count": 14,
   "metadata": {},
   "outputs": [
    {
     "data": {
      "text/html": [
       "<div>\n",
       "<style scoped>\n",
       "    .dataframe tbody tr th:only-of-type {\n",
       "        vertical-align: middle;\n",
       "    }\n",
       "\n",
       "    .dataframe tbody tr th {\n",
       "        vertical-align: top;\n",
       "    }\n",
       "\n",
       "    .dataframe thead th {\n",
       "        text-align: right;\n",
       "    }\n",
       "</style>\n",
       "<table border=\"1\" class=\"dataframe\">\n",
       "  <thead>\n",
       "    <tr style=\"text-align: right;\">\n",
       "      <th></th>\n",
       "      <th>League</th>\n",
       "      <th>Stage</th>\n",
       "    </tr>\n",
       "  </thead>\n",
       "  <tbody>\n",
       "    <tr>\n",
       "      <th>0</th>\n",
       "      <td>NBA</td>\n",
       "      <td>Regular_Season</td>\n",
       "    </tr>\n",
       "    <tr>\n",
       "      <th>1</th>\n",
       "      <td>NBA</td>\n",
       "      <td>Playoffs</td>\n",
       "    </tr>\n",
       "    <tr>\n",
       "      <th>2</th>\n",
       "      <td>Eurocup</td>\n",
       "      <td>International</td>\n",
       "    </tr>\n",
       "  </tbody>\n",
       "</table>\n",
       "</div>"
      ],
      "text/plain": [
       "    League           Stage\n",
       "0      NBA  Regular_Season\n",
       "1      NBA        Playoffs\n",
       "2  Eurocup   International"
      ]
     },
     "metadata": {},
     "output_type": "display_data"
    }
   ],
   "source": [
    "df = pd.DataFrame({\"League\": [\"NBA\", \"NBA\", \"Eurocup\"], \"Stage\": [\"Regular_Season\", \"Playoffs\", \"International\"]})\n",
    "display(df)"
   ]
  },
  {
   "cell_type": "markdown",
   "metadata": {},
   "source": [
    "---\n",
    "### Nominal to Numerical\n",
    "&rarr; **One Hot Encoding**\n",
    "- Assume that one variable can assume k different values. The variable is replaced with k columns where each one represents one possible value of the variable. The cell number of the k-th column is equal to \"1\" if the original variable assumes that value, or \"0\" otherwise"
   ]
  },
  {
   "cell_type": "code",
   "execution_count": 15,
   "metadata": {},
   "outputs": [
    {
     "data": {
      "text/html": [
       "<div>\n",
       "<style scoped>\n",
       "    .dataframe tbody tr th:only-of-type {\n",
       "        vertical-align: middle;\n",
       "    }\n",
       "\n",
       "    .dataframe tbody tr th {\n",
       "        vertical-align: top;\n",
       "    }\n",
       "\n",
       "    .dataframe thead th {\n",
       "        text-align: right;\n",
       "    }\n",
       "</style>\n",
       "<table border=\"1\" class=\"dataframe\">\n",
       "  <thead>\n",
       "    <tr style=\"text-align: right;\">\n",
       "      <th></th>\n",
       "      <th>League_Eurocup</th>\n",
       "      <th>League_NBA</th>\n",
       "      <th>Stage_International</th>\n",
       "      <th>Stage_Playoffs</th>\n",
       "      <th>Stage_Regular_Season</th>\n",
       "    </tr>\n",
       "  </thead>\n",
       "  <tbody>\n",
       "    <tr>\n",
       "      <th>0</th>\n",
       "      <td>False</td>\n",
       "      <td>True</td>\n",
       "      <td>False</td>\n",
       "      <td>False</td>\n",
       "      <td>True</td>\n",
       "    </tr>\n",
       "    <tr>\n",
       "      <th>1</th>\n",
       "      <td>False</td>\n",
       "      <td>True</td>\n",
       "      <td>False</td>\n",
       "      <td>True</td>\n",
       "      <td>False</td>\n",
       "    </tr>\n",
       "    <tr>\n",
       "      <th>2</th>\n",
       "      <td>True</td>\n",
       "      <td>False</td>\n",
       "      <td>True</td>\n",
       "      <td>False</td>\n",
       "      <td>False</td>\n",
       "    </tr>\n",
       "  </tbody>\n",
       "</table>\n",
       "</div>"
      ],
      "text/plain": [
       "   League_Eurocup  League_NBA  Stage_International  Stage_Playoffs  \\\n",
       "0           False        True                False           False   \n",
       "1           False        True                False            True   \n",
       "2            True       False                 True           False   \n",
       "\n",
       "   Stage_Regular_Season  \n",
       "0                  True  \n",
       "1                 False  \n",
       "2                 False  "
      ]
     },
     "execution_count": 15,
     "metadata": {},
     "output_type": "execute_result"
    }
   ],
   "source": [
    "pd.get_dummies(df)  # the values are True/False"
   ]
  },
  {
   "cell_type": "code",
   "execution_count": 16,
   "metadata": {},
   "outputs": [
    {
     "data": {
      "text/plain": [
       "array([[0., 1., 0., 0., 1.],\n",
       "       [0., 1., 0., 1., 0.],\n",
       "       [1., 0., 1., 0., 0.]])"
      ]
     },
     "execution_count": 16,
     "metadata": {},
     "output_type": "execute_result"
    }
   ],
   "source": [
    "OneHotEncoder(sparse_output=False).fit_transform(df)  # the values are binary (0/1)"
   ]
  },
  {
   "cell_type": "code",
   "execution_count": 17,
   "metadata": {},
   "outputs": [
    {
     "data": {
      "text/plain": [
       "array([[0., 1., 0., 0., 1.],\n",
       "       [0., 1., 0., 1., 0.],\n",
       "       [1., 0., 1., 0., 0.]])"
      ]
     },
     "execution_count": 17,
     "metadata": {},
     "output_type": "execute_result"
    }
   ],
   "source": [
    "# General solution\n",
    "\n",
    "# Apply OneHotEncoder to columns 0,1. \"remainder=passthrough\": the other columns are left the same\n",
    "ColumnTransformer([(\"encoder\", OneHotEncoder(), [0, 1])], remainder=\"passthrough\").fit_transform(df)"
   ]
  },
  {
   "cell_type": "markdown",
   "metadata": {},
   "source": [
    "---\n",
    "### Ordinal to Numerical\n",
    "&rarr; **Integer Encoding**\n",
    "- The ordered sequence is transformed into consecutive integers"
   ]
  },
  {
   "cell_type": "code",
   "execution_count": 18,
   "metadata": {},
   "outputs": [
    {
     "data": {
      "text/plain": [
       "array([2, 1, 0])"
      ]
     },
     "execution_count": 18,
     "metadata": {},
     "output_type": "execute_result"
    }
   ],
   "source": [
    "# Target encoding (one column)\n",
    "LabelEncoder().fit_transform(df.Stage)"
   ]
  },
  {
   "cell_type": "code",
   "execution_count": 19,
   "metadata": {},
   "outputs": [
    {
     "data": {
      "text/plain": [
       "array([[1., 2.],\n",
       "       [1., 1.],\n",
       "       [0., 0.]])"
      ]
     },
     "execution_count": 19,
     "metadata": {},
     "output_type": "execute_result"
    }
   ],
   "source": [
    "# Attributes encoding (multiple columns)\n",
    "OrdinalEncoder().fit_transform(df)"
   ]
  },
  {
   "cell_type": "markdown",
   "metadata": {},
   "source": [
    "---\n",
    "### Numerical to Binary"
   ]
  },
  {
   "cell_type": "code",
   "execution_count": 20,
   "metadata": {},
   "outputs": [
    {
     "data": {
      "text/plain": [
       "array([[0, 1, 1],\n",
       "       [1, 0, 0]])"
      ]
     },
     "execution_count": 20,
     "metadata": {},
     "output_type": "execute_result"
    }
   ],
   "source": [
    "from sklearn.preprocessing import Binarizer\n",
    "\n",
    "X = pd.DataFrame([[-10, 10, 200], [3, 1, 0]])\n",
    "Binarizer(threshold=1).fit_transform(X)"
   ]
  },
  {
   "cell_type": "code",
   "execution_count": 21,
   "metadata": {},
   "outputs": [
    {
     "data": {
      "text/html": [
       "<div>\n",
       "<style scoped>\n",
       "    .dataframe tbody tr th:only-of-type {\n",
       "        vertical-align: middle;\n",
       "    }\n",
       "\n",
       "    .dataframe tbody tr th {\n",
       "        vertical-align: top;\n",
       "    }\n",
       "\n",
       "    .dataframe thead th {\n",
       "        text-align: right;\n",
       "    }\n",
       "</style>\n",
       "<table border=\"1\" class=\"dataframe\">\n",
       "  <thead>\n",
       "    <tr style=\"text-align: right;\">\n",
       "      <th></th>\n",
       "      <th>0</th>\n",
       "      <th>1</th>\n",
       "      <th>2</th>\n",
       "    </tr>\n",
       "  </thead>\n",
       "  <tbody>\n",
       "    <tr>\n",
       "      <th>0</th>\n",
       "      <td>False</td>\n",
       "      <td>True</td>\n",
       "      <td>True</td>\n",
       "    </tr>\n",
       "    <tr>\n",
       "      <th>1</th>\n",
       "      <td>True</td>\n",
       "      <td>True</td>\n",
       "      <td>False</td>\n",
       "    </tr>\n",
       "  </tbody>\n",
       "</table>\n",
       "</div>"
      ],
      "text/plain": [
       "       0     1      2\n",
       "0  False  True   True\n",
       "1   True  True  False"
      ]
     },
     "execution_count": 21,
     "metadata": {},
     "output_type": "execute_result"
    }
   ],
   "source": [
    "X > 0"
   ]
  },
  {
   "cell_type": "markdown",
   "metadata": {},
   "source": [
    "---\n",
    "### Numerical Discretization"
   ]
  },
  {
   "cell_type": "code",
   "execution_count": 22,
   "metadata": {},
   "outputs": [
    {
     "data": {
      "text/plain": [
       "array([[1., 0., 1., 0., 0., 1.],\n",
       "       [0., 1., 0., 1., 1., 0.]])"
      ]
     },
     "execution_count": 22,
     "metadata": {},
     "output_type": "execute_result"
    }
   ],
   "source": [
    "from sklearn.preprocessing import KBinsDiscretizer\n",
    "\n",
    "X = pd.DataFrame([[-10, -10, 50], [20, 20, -50]])\n",
    "disc = KBinsDiscretizer(n_bins=2, encode=\"onehot-dense\", subsample=None)\n",
    "disc.fit_transform(X)"
   ]
  },
  {
   "cell_type": "markdown",
   "metadata": {},
   "source": [
    "---\n",
    "---\n",
    "- For *incomplete data* (lacking feature values):\n",
    "    - Ignore the sample if the sample contains several attributes with missing values\n",
    "    - Manually fill in the missing values (Time-consuming)\n",
    "    - Use a global constant value to fill in the missing values\n",
    "        - Replace all missing attribute values with the same constant (i.e. -1). The ML algorithm may (mistakenly) interpret this as a pattern(several samples with a value in common)\n",
    "    - Use a measure like the mean (or median) to fill in the missing values:\n",
    "        - for normal (symmetric) data distributions => mean/median (are equals)\n",
    "        - for skewed data distribution => median\n",
    "        - It can be used the feature mean/median for all samples belonging to the same class"
   ]
  },
  {
   "cell_type": "markdown",
   "metadata": {},
   "source": [
    "- For *noisy data* (containing errors, or values that deviate from the expected):\n",
    "    -  Smooth a sorted data value by looking at the values around it (neighborhood) => **Binning**\n",
    "        - The sorted values are distributed in bins (buckets) with equal width. For example, integers ordered in [0,5]: [0,1] [2,3] [4,5]\n",
    "        - Smoothing by bin means: each value in a bin is replaced by the mean value of the bin\n",
    "        - Smoothing by bin medians: each bin value is replaced by the bin median \n",
    "        - Smoothing by bin boundaries: the minimum and maximum values in a given bin are identified as the bin boundaries. Each bin value is replaced by the closest boundary value"
   ]
  },
  {
   "cell_type": "markdown",
   "metadata": {},
   "source": [
    "- For *inconsistent data* (feature duplication, sample duplication, human error in data entry, deliberate errors, inconsistent data representations, inconsistent use of codes, errors from the devices that record data, system errors): ..."
   ]
  }
 ],
 "metadata": {
  "kernelspec": {
   "display_name": "Python 3",
   "language": "python",
   "name": "python3"
  },
  "language_info": {
   "codemirror_mode": {
    "name": "ipython",
    "version": 3
   },
   "file_extension": ".py",
   "mimetype": "text/x-python",
   "name": "python",
   "nbconvert_exporter": "python",
   "pygments_lexer": "ipython3",
   "version": "3.10.12"
  }
 },
 "nbformat": 4,
 "nbformat_minor": 2
}
